{
 "cells": [
  {
   "cell_type": "code",
   "execution_count": 1,
   "metadata": {},
   "outputs": [],
   "source": [
    "#settning up the librairies and base configureation to run \n",
    "\n",
    "import numpy as np\n",
    "np.random.seed(42)\n",
    "from numpy import array\n",
    "from numpy import argmax\n",
    "from sklearn.preprocessing import LabelEncoder\n",
    "from sklearn.preprocessing import OneHotEncoder\n",
    "from sklearn.model_selection import cross_val_score, train_test_split, cross_val_predict\n",
    "from sklearn.feature_selection import SelectKBest\n",
    "from sklearn.feature_selection import chi2    \n",
    "import pandas as pd\n",
    "    "
   ]
  },
  {
   "cell_type": "code",
   "execution_count": 2,
   "metadata": {},
   "outputs": [],
   "source": [
    "def process_data1(file):\n",
    "    \n",
    "    X_train = pd.read_csv(file)\n",
    "    X_train = X_train.sample(frac=1)\n",
    "    df = X_train.copy()\n",
    "    \n",
    "    return df"
   ]
  },
  {
   "cell_type": "code",
   "execution_count": 3,
   "metadata": {},
   "outputs": [],
   "source": [
    "def prepare_columns(dataset):\n",
    "    \n",
    "    dataset['Month'] = pd.Categorical(dataset['Month'])\n",
    "    monthDummy = pd.get_dummies(dataset['Month'], prefix = 'Month')\n",
    "    dataset = pd.concat([dataset, monthDummy], axis=1)\n",
    "    dataset.drop(['Month'], axis=1, inplace= True)\n",
    "\n",
    "\n",
    "    dataset['OperatingSystems'] = pd.Categorical(dataset['OperatingSystems'])\n",
    "    operatingSystemsDummy = pd.get_dummies(dataset['OperatingSystems'], prefix = 'OS')\n",
    "    dataset = pd.concat([dataset, operatingSystemsDummy], axis=1)\n",
    "    dataset.drop(['OperatingSystems'], axis=1, inplace= True)\n",
    "\n",
    "\n",
    "    dataset['Browser'] = pd.Categorical(dataset['Browser'])\n",
    "    browserDummy = pd.get_dummies(dataset['Browser'], prefix = 'Browser')\n",
    "    dataset = pd.concat([dataset, browserDummy], axis=1)\n",
    "    dataset.drop(['Browser'], axis=1, inplace= True)\n",
    "\n",
    "\n",
    "    dataset['Region'] = pd.Categorical(dataset['Region'])\n",
    "    regionDummy = pd.get_dummies(dataset['Region'], prefix = 'Region')\n",
    "    dataset = pd.concat([dataset, regionDummy], axis=1)\n",
    "    dataset.drop(['Region'], axis=1, inplace= True)\n",
    "\n",
    "\n",
    "    dataset['TrafficType'] = pd.Categorical(dataset['TrafficType'])\n",
    "    trafficTypeDummy = pd.get_dummies(dataset['TrafficType'], prefix = 'TrafficType')\n",
    "    dataset = pd.concat([dataset, trafficTypeDummy], axis=1)\n",
    "    dataset.drop(['TrafficType'], axis=1, inplace= True)\n",
    "\n",
    "\n",
    "    dataset['VisitorType'] = pd.Categorical(dataset['VisitorType'])\n",
    "    visitorTypeDummy = pd.get_dummies(dataset['VisitorType'], prefix = 'visitorType')\n",
    "    dataset = pd.concat([dataset, operatingSystemsDummy], axis=1)\n",
    "    dataset.drop(['VisitorType'], axis=1, inplace= True)\n",
    "\n",
    "\n",
    "    dataset['Weekend'] = pd.Categorical(dataset['Weekend'])\n",
    "    weekendDummy = pd.get_dummies(dataset['Weekend'], prefix = 'Weekend')\n",
    "    dataset = pd.concat([dataset, weekendDummy], axis=1)\n",
    "    dataset.drop(['Weekend'], axis=1, inplace= True)\n",
    "        \n",
    "    dataset.to_csv(\"PreparedPrediction.csv\")\n",
    "    \n",
    "      \n",
    "    #change type\n",
    "    dataset['Revenue'] = dataset['Revenue'].astype(int)\n",
    "    \n",
    "    #converting to binary-valued features\n",
    "    dataset.ProductRelated[dataset.ProductRelated != 0] = 1\n",
    "    dataset.ProductRelated[dataset.ProductRelated == 0] = 0\n",
    "\n",
    "    dataset.Informational[dataset.Informational != 0] = 1\n",
    "    dataset.Informational[dataset.Informational == 0] = 0\n",
    "\n",
    "    dataset.Administrative[dataset.Administrative != 0] = 1\n",
    "    dataset.Administrative[dataset.Administrative == 0] = 0  \n",
    "    \n",
    "    dataset.Revenue[dataset.Revenue == True] = 1 \n",
    "    dataset.Revenue[dataset.Revenue == False] = 0\n",
    "        \n",
    "    return dataset"
   ]
  },
  {
   "cell_type": "code",
   "execution_count": 4,
   "metadata": {},
   "outputs": [],
   "source": [
    "def prepare_X_and_Y(df):\n",
    "    \n",
    "    X = df.drop('Revenue', axis = 1)\n",
    "    Y = df['Revenue'].copy()\n",
    "    \n",
    "    return X,Y"
   ]
  },
  {
   "cell_type": "code",
   "execution_count": 5,
   "metadata": {},
   "outputs": [],
   "source": [
    "def feature_selection(X,Y):\n",
    "    \n",
    "    #feature ranking and feature selection\n",
    "    feature_ranking = SelectKBest(chi2, k=5)\n",
    "    fit = feature_ranking.fit(X, Y)\n",
    "    fmt = '%-8s%-20s%s'\n",
    "\n",
    "    list_one =[]    \n",
    "    for i, (score, feature) in enumerate(zip(feature_ranking.scores_, X.columns)):\n",
    "        list_one.append((score, feature))\n",
    "    dfObj = pd.DataFrame(list_one) \n",
    "    dfObj.sort_values(by=[0], ascending = False)\n",
    "\n",
    "    return dfObj\n"
   ]
  },
  {
   "cell_type": "code",
   "execution_count": 6,
   "metadata": {},
   "outputs": [],
   "source": [
    "def select_columns(df):\n",
    "    \n",
    "    #columns have been selected based on above top features\n",
    "    df = df.loc[:, [\"Administrative\", \"Administrative_Duration\", \"Informational\", \"Informational_Duration\", \"ProductRelated\", \"ProductRelated_Duration\", \"PageValues\", \"Revenue\"]]\n",
    "    \n",
    "    return df\n"
   ]
  },
  {
   "cell_type": "code",
   "execution_count": 7,
   "metadata": {},
   "outputs": [],
   "source": [
    "def train_test_datasplit(df):\n",
    "      \n",
    "    trainData, testData = train_test_split(df, test_size = 0.3)\n",
    "    #X_train, X_test,Y_train,Y_test = train_test_split(X,Y,test_size=0.3)\n",
    "\n",
    "    \n",
    "    #X_train = np.array(X_train)\n",
    "    #X_test = np.array(X_test)\n",
    "    #X_train = X_train.reshape((X_train.shape[0],X_train.shape[1],1))\n",
    "    #X_test = X_test.reshape((X_test.shape[0], X_test.shape[1],1))\n",
    "\n",
    "    #Y_train = np.array(Y_train)\n",
    "    #Y_train = Y_train.reshape((Y_train.shape[0],2))\n",
    "    #Y_test = np.array(Y_test)\n",
    "    #Y_test = Y_test.reshape((Y_test.shape[0],2))\n",
    "    \n",
    "    #return X_train, X_test, Y_train, Y_test\n",
    "    \n",
    "    return trainData, testData\n"
   ]
  },
  {
   "cell_type": "code",
   "execution_count": 8,
   "metadata": {},
   "outputs": [],
   "source": [
    "def saving_datasets(trainData, testData):\n",
    "    \n",
    "    trainData.to_csv('LSTMTrainData.csv')\n",
    "    testData.to_csv('LSTMTestData.csv')\n",
    "    "
   ]
  },
  {
   "cell_type": "code",
   "execution_count": 9,
   "metadata": {},
   "outputs": [
    {
     "name": "stderr",
     "output_type": "stream",
     "text": [
      "C:\\MyProgramFiles\\Anaconda3\\lib\\site-packages\\pandas\\core\\generic.py:9114: SettingWithCopyWarning: \n",
      "A value is trying to be set on a copy of a slice from a DataFrame\n",
      "\n",
      "See the caveats in the documentation: http://pandas.pydata.org/pandas-docs/stable/user_guide/indexing.html#returning-a-view-versus-a-copy\n",
      "  self._update_inplace(new_data)\n",
      "C:\\MyProgramFiles\\Anaconda3\\lib\\site-packages\\ipykernel_launcher.py:3: SettingWithCopyWarning: \n",
      "A value is trying to be set on a copy of a slice from a DataFrame\n",
      "\n",
      "See the caveats in the documentation: http://pandas.pydata.org/pandas-docs/stable/user_guide/indexing.html#returning-a-view-versus-a-copy\n",
      "  This is separate from the ipykernel package so we can avoid doing imports until\n"
     ]
    }
   ],
   "source": [
    "df = process_data1('predictionDataset')\n",
    "\n",
    "df = prepare_columns(df)\n",
    "\n",
    "\n",
    "X,Y = prepare_X_and_Y(df)\n",
    "\n",
    "dbObj = feature_selection(X,Y)\n",
    "\n",
    "df = select_columns(df)\n",
    "\n",
    "trainData, testData = train_test_datasplit(df)\n",
    "\n",
    "saving_datasets(trainData, testData)\n",
    "\n"
   ]
  },
  {
   "cell_type": "code",
   "execution_count": null,
   "metadata": {},
   "outputs": [],
   "source": []
  }
 ],
 "metadata": {
  "kernelspec": {
   "display_name": "Python 3",
   "language": "python",
   "name": "python3"
  },
  "language_info": {
   "codemirror_mode": {
    "name": "ipython",
    "version": 3
   },
   "file_extension": ".py",
   "mimetype": "text/x-python",
   "name": "python",
   "nbconvert_exporter": "python",
   "pygments_lexer": "ipython3",
   "version": "3.7.4"
  }
 },
 "nbformat": 4,
 "nbformat_minor": 2
}
