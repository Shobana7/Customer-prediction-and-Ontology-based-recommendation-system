{
 "cells": [
  {
   "cell_type": "markdown",
   "metadata": {},
   "source": [
    "Webpage should call  run_lstm_for_input(). This will run the LSTM code on interested input. If returned value from this is 0(he is not likely to leave), print \"recommnder as usual\"\n",
    "If returned value is 1 (likely to leave), then call the next module run_rf_for_input(). If returned value is 1 (he does have a purchasing intention), call the recommender"
   ]
  },
  {
   "cell_type": "code",
   "execution_count": 1,
   "metadata": {},
   "outputs": [],
   "source": [
    "import warnings\n",
    "warnings.filterwarnings(\"ignore\")"
   ]
  },
  {
   "cell_type": "code",
   "execution_count": 2,
   "metadata": {},
   "outputs": [
    {
     "name": "stderr",
     "output_type": "stream",
     "text": [
      "Using TensorFlow backend.\n"
     ]
    }
   ],
   "source": [
    "#setting up libraries and base configuration\n",
    "\n",
    "import tensorflow as tf \n",
    "tf.compat.v1.set_random_seed(42)\n",
    "from sklearn import metrics\n",
    "from sklearn import svm\n",
    "import os\n",
    "from keras.models import Sequential\n",
    "from keras.layers import LSTM\n",
    "from keras.layers.core import Dense, Dropout\n",
    "import pandas as pd\n",
    "import numpy as np\n",
    "\n",
    "session_conf = tf.compat.v1.ConfigProto(\n",
    "    intra_op_parallelism_threads=1,\n",
    "    inter_op_parallelism_threads=1\n",
    ")\n",
    "\n",
    "sess = tf.compat.v1.Session(graph=tf.compat.v1.get_default_graph(), config=session_conf)\n",
    "tf.compat.v1.keras.backend.set_session(sess)\n"
   ]
  },
  {
   "cell_type": "markdown",
   "metadata": {},
   "source": [
    "Training LSTM first "
   ]
  },
  {
   "cell_type": "code",
   "execution_count": 3,
   "metadata": {},
   "outputs": [],
   "source": [
    "def load_datasets(LSTMTrainFile, LSTMTestFile):\n",
    "    \n",
    "    LSTMTrain = pd.read_csv(LSTMTrainFile)\n",
    "    LSTMTest = pd.read_csv(LSTMTestFile)\n",
    "    \n",
    "    LSTMTrain.drop(LSTMTrain.columns[[0]], axis = 1, inplace = True)\n",
    "    LSTMTest.drop(LSTMTest.columns[[0]], axis = 1, inplace = True)\n",
    "     \n",
    "    #testDataset.drop(testDataset.columns[[0]], axis = 1, inplace = True)\n",
    "    \n",
    "    return LSTMTrain, LSTMTest"
   ]
  },
  {
   "cell_type": "code",
   "execution_count": 4,
   "metadata": {},
   "outputs": [],
   "source": [
    "def prepare_datasets(LSTMTrain, LSTMTest):\n",
    "    \n",
    "    LSTMTrainX = LSTMTrain[LSTMTrain.columns[0:7]]\n",
    "    LSTMTrainY = LSTMTrain[LSTMTrain.columns[7:8]]\n",
    "    \n",
    "    LSTMTestX = LSTMTest[LSTMTest.columns[0:7]]\n",
    "    LSTMTestY = LSTMTest[LSTMTest.columns[7:8]]\n",
    "    \n",
    "\n",
    "    return LSTMTrainX, LSTMTrainY, LSTMTestX, LSTMTestY"
   ]
  },
  {
   "cell_type": "code",
   "execution_count": 5,
   "metadata": {},
   "outputs": [],
   "source": [
    "def define_lstm_model():\n",
    "    \n",
    "    timesteps = 7\n",
    "    input_dim = 1\n",
    "    n_classes = 2\n",
    "    epoch = 30\n",
    "    batch_size = 16\n",
    "    n_hidden = 30\n",
    "\n",
    "    INPUT_ACTION_TYPES = [\n",
    "        \"Administrative\",\n",
    "        \"Informational\",\n",
    "        \"ProductRelated\",\n",
    "        \"Administrative_Duration\",\n",
    "        \"Informational_Duration\",\n",
    "        \"ProductRelated_Duration\",\n",
    "        \"PageValues\"\n",
    "        ]\n",
    "\n",
    "    LABELS = [\n",
    "        \"False\",\n",
    "        \"True\"\n",
    "    ]\n",
    "\n",
    "    lstm_model = Sequential()\n",
    "    lstm_model.add(LSTM(n_hidden, input_shape=(timesteps, input_dim)))\n",
    "    lstm_model.add(Dropout(0.5))\n",
    "    lstm_model.add(Dense(1, activation='sigmoid'))\n",
    "    \n",
    "    lstm_model.compile(loss='binary_crossentropy',\n",
    "                  optimizer='rmsprop',\n",
    "                  metrics=['accuracy'])\n",
    "    \n",
    "    return lstm_model\n"
   ]
  },
  {
   "cell_type": "code",
   "execution_count": 6,
   "metadata": {},
   "outputs": [],
   "source": [
    "def running_lstm_model(lstm_model, LSTMTrainX, LSTMTrainY, LSTMTestX, LSTMTestY):\n",
    "    \n",
    "    from sklearn.metrics import classification_report\n",
    "    \n",
    "    lstm_model.fit(LSTMTrainX, LSTMTrainY, batch_size = 16, epochs = 30)\n",
    "    predicted = lstm_model.predict(LSTMTestX)\n",
    "    \n",
    "    predicted[predicted<0.5]=0\n",
    "    predicted[predicted>0.5]=1\n",
    "    \n",
    "    print(classification_report(LSTMTestY, predicted))\n",
    "    \n",
    "    return lstm_model\n",
    " "
   ]
  },
  {
   "cell_type": "code",
   "execution_count": 7,
   "metadata": {},
   "outputs": [],
   "source": [
    "def run_lstm_for_input():\n",
    "    \n",
    "    #training the LSTM\n",
    "    LSTMTrain, LSTMTest = load_datasets(\"LSTMTrainData.csv\", \"LSTMTestData.csv\")\n",
    "    LSTMTrainX, LSTMTrainY, LSTMTestX, LSTMTestY = prepare_datasets(LSTMTrain, LSTMTest)\n",
    "\n",
    "    LSTMTrainX = LSTMTrainX.to_numpy()\n",
    "    LSTMTestX = LSTMTestX.to_numpy()\n",
    "    \n",
    "    LSTMTrainX = LSTMTrainX.reshape(8631, 7,1)\n",
    "    LSTMTestX = LSTMTestX.reshape(3699,7,1)\n",
    "\n",
    "    lstm_model = define_lstm_model()\n",
    "    lstm_model = running_lstm_model(lstm_model, LSTMTrainX, LSTMTrainY, LSTMTestX, LSTMTestY)\n",
    "    \n",
    "\n",
    "    \n",
    "    #runnign LSTM on interested datapoint\n",
    "    testInput = pd.read_csv(\"TestInput.csv\")\n",
    "\n",
    "    #doing only the relevant steps of preprocessing\n",
    "    testInput.ProductRelated[testInput.ProductRelated != 0] = 1\n",
    "    testInput.ProductRelated[testInput.ProductRelated == 0] = 0\n",
    "\n",
    "    testInput.Informational[testInput.Informational != 0] = 1\n",
    "    testInput.Informational[testInput.Informational == 0] = 0\n",
    "\n",
    "    testInput.Administrative[testInput.Administrative != 0] = 1\n",
    "    testInput.Administrative[testInput.Administrative == 0] = 0  \n",
    "\n",
    "    testInput = testInput.loc[:, [\"Administrative\", \"Administrative_Duration\", \"Informational\", \"Informational_Duration\", \"ProductRelated\", \"ProductRelated_Duration\", \"PageValues\"]]\n",
    "    \n",
    "    testInput = np.array(testInput)\n",
    "    testInput = testInput.reshape(1,7,1)\n",
    "\n",
    "    testOutput = lstm_model.predict(testInput)\n",
    "    testOutput[testOutput<0.5]=0\n",
    "    testOutput[testOutput>0.5]=1\n",
    "\n",
    "    return testOutput, lstm_model\n"
   ]
  },
  {
   "cell_type": "code",
   "execution_count": 8,
   "metadata": {},
   "outputs": [
    {
     "name": "stdout",
     "output_type": "stream",
     "text": [
      "Epoch 1/30\n",
      "8631/8631 [==============================] - 9s 1ms/step - loss: 0.3161 - accuracy: 0.8753\n",
      "Epoch 2/30\n",
      "8631/8631 [==============================] - 6s 710us/step - loss: 0.2782 - accuracy: 0.8885\n",
      "Epoch 3/30\n",
      "8631/8631 [==============================] - 7s 817us/step - loss: 0.2726 - accuracy: 0.8933\n",
      "Epoch 4/30\n",
      "8631/8631 [==============================] - 6s 714us/step - loss: 0.2682 - accuracy: 0.8928\n",
      "Epoch 5/30\n",
      "8631/8631 [==============================] - 8s 892us/step - loss: 0.2685 - accuracy: 0.8941\n",
      "Epoch 6/30\n",
      "8631/8631 [==============================] - 6s 753us/step - loss: 0.2658 - accuracy: 0.8921\n",
      "Epoch 7/30\n",
      "8631/8631 [==============================] - 7s 825us/step - loss: 0.2653 - accuracy: 0.8941\n",
      "Epoch 8/30\n",
      "8631/8631 [==============================] - 9s 1ms/step - loss: 0.2624 - accuracy: 0.8982\n",
      "Epoch 9/30\n",
      "8631/8631 [==============================] - 8s 982us/step - loss: 0.2653 - accuracy: 0.8932\n",
      "Epoch 10/30\n",
      "8631/8631 [==============================] - 8s 966us/step - loss: 0.2613 - accuracy: 0.8951\n",
      "Epoch 11/30\n",
      "8631/8631 [==============================] - 9s 1ms/step - loss: 0.2619 - accuracy: 0.8967\n",
      "Epoch 12/30\n",
      "8631/8631 [==============================] - 9s 1ms/step - loss: 0.2639 - accuracy: 0.8969\n",
      "Epoch 13/30\n",
      "8631/8631 [==============================] - 9s 1ms/step - loss: 0.2629 - accuracy: 0.8970\n",
      "Epoch 14/30\n",
      "8631/8631 [==============================] - 8s 984us/step - loss: 0.2609 - accuracy: 0.8955\n",
      "Epoch 15/30\n",
      "8631/8631 [==============================] - 8s 953us/step - loss: 0.2597 - accuracy: 0.8961\n",
      "Epoch 16/30\n",
      "8631/8631 [==============================] - 8s 923us/step - loss: 0.2607 - accuracy: 0.8960\n",
      "Epoch 17/30\n",
      "8631/8631 [==============================] - 7s 773us/step - loss: 0.2603 - accuracy: 0.8962\n",
      "Epoch 18/30\n",
      "8631/8631 [==============================] - 5s 622us/step - loss: 0.2571 - accuracy: 0.8984\n",
      "Epoch 19/30\n",
      "8631/8631 [==============================] - 6s 686us/step - loss: 0.2604 - accuracy: 0.8942\n",
      "Epoch 20/30\n",
      "8631/8631 [==============================] - 6s 687us/step - loss: 0.2564 - accuracy: 0.8957\n",
      "Epoch 21/30\n",
      "8631/8631 [==============================] - 8s 928us/step - loss: 0.2606 - accuracy: 0.8969\n",
      "Epoch 22/30\n",
      "8631/8631 [==============================] - 7s 813us/step - loss: 0.2577 - accuracy: 0.8958\n",
      "Epoch 23/30\n",
      "8631/8631 [==============================] - 7s 786us/step - loss: 0.2569 - accuracy: 0.8976\n",
      "Epoch 24/30\n",
      "8631/8631 [==============================] - 7s 813us/step - loss: 0.2605 - accuracy: 0.8943\n",
      "Epoch 25/30\n",
      "8631/8631 [==============================] - 7s 787us/step - loss: 0.2564 - accuracy: 0.8963\n",
      "Epoch 26/30\n",
      "8631/8631 [==============================] - 7s 837us/step - loss: 0.2578 - accuracy: 0.8965\n",
      "Epoch 27/30\n",
      "8631/8631 [==============================] - 7s 851us/step - loss: 0.2566 - accuracy: 0.8971\n",
      "Epoch 28/30\n",
      "8631/8631 [==============================] - 7s 846us/step - loss: 0.2576 - accuracy: 0.8970\n",
      "Epoch 29/30\n",
      "8631/8631 [==============================] - 7s 781us/step - loss: 0.2559 - accuracy: 0.8972\n",
      "Epoch 30/30\n",
      "8631/8631 [==============================] - 5s 610us/step - loss: 0.2566 - accuracy: 0.8991\n",
      "              precision    recall  f1-score   support\n",
      "\n",
      "           0       0.92      0.95      0.93      3119\n",
      "           1       0.67      0.53      0.60       580\n",
      "\n",
      "    accuracy                           0.89      3699\n",
      "   macro avg       0.79      0.74      0.76      3699\n",
      "weighted avg       0.88      0.89      0.88      3699\n",
      "\n"
     ]
    }
   ],
   "source": [
    "outputLSTM, lstm_model = run_lstm_for_input()\n"
   ]
  },
  {
   "cell_type": "markdown",
   "metadata": {},
   "source": [
    "Training RF model"
   ]
  },
  {
   "cell_type": "code",
   "execution_count": 9,
   "metadata": {},
   "outputs": [],
   "source": [
    "def load_datasets(trainFile, testFile):\n",
    "    \n",
    "    import pandas as pd\n",
    "    trainDataset = pd.read_csv(trainFile)\n",
    "    testDataset = pd.read_csv(testFile)\n",
    "    \n",
    "    trainDataset.drop(trainDataset.columns[[0]], axis = 1, inplace = True)\n",
    "    testDataset.drop(testDataset.columns[[0]], axis = 1, inplace = True)\n",
    "    \n",
    "    return trainDataset, testDataset\n"
   ]
  },
  {
   "cell_type": "code",
   "execution_count": 10,
   "metadata": {},
   "outputs": [],
   "source": [
    "#seperating test and train into features and target\n",
    "def prepare_datasets(trainDataset, testDataset):\n",
    "    \n",
    "    trainX = trainDataset[trainDataset.columns[0:15]]\n",
    "    trainY = trainDataset[trainDataset.columns[15:16]]\n",
    "\n",
    "    testX = testDataset[testDataset.columns[0:15]]\n",
    "    testY = testDataset[testDataset.columns[15:16]]\n",
    "\n",
    "    return trainX, trainY, testX, testY\n"
   ]
  },
  {
   "cell_type": "code",
   "execution_count": 11,
   "metadata": {},
   "outputs": [],
   "source": [
    "def randomForest(DataTrainX, DataTrainY, DataTestX, DataTestY):\n",
    "    \n",
    "    from sklearn.ensemble import RandomForestClassifier\n",
    "    from sklearn.metrics import classification_report\n",
    "    \n",
    "    rf = RandomForestClassifier(bootstrap= True, max_depth= 80, max_features= 3, min_samples_leaf= 3, min_samples_split= 8, n_estimators= 100)\n",
    "    rf.fit(DataTrainX, DataTrainY)\n",
    "    predictedData = rf.predict(DataTestX)\n",
    "    \n",
    "    print(classification_report(DataTestY, predictedData))\n",
    "    \n",
    "    return rf\n"
   ]
  },
  {
   "cell_type": "code",
   "execution_count": 12,
   "metadata": {},
   "outputs": [],
   "source": [
    "def run_rf_for_input():\n",
    "\n",
    "    #training the dataset\n",
    "    trainData, testData = load_datasets(\"RFTrainingData.csv\", \"RFTestingData.csv\")    \n",
    "    trainDataX, trainDataY, testDataX, testDataY = prepare_datasets(trainData, testData)\n",
    "    \n",
    "    rf = randomForest(trainDataX, trainDataY, testDataX, testDataY)\n",
    "    \n",
    "    \n",
    "    #running the model on input instance\n",
    "    testInput = pd.read_csv(\"TestInput.csv\")\n",
    "    testInput = testInput.loc[:, [\"Month_Nov\", \"TrafficType_2\", \"TrafficType_3\", \"Month_May\", \"SpecialDay\", \"TrafficType_13\", \"OS_3\", \"TrafficType_1\", \"Month_Mar\", \"TrafficType_8\", \"BounceRates\", \"ExitRates\", \"Month_Feb\", \"ProductRelated_Duration\", \"PageValues\"]]\n",
    "    testOutput = rf.predict(testInput)\n",
    "    \n",
    "    index = np.where(testOutput==1)\n",
    "    \n",
    "    print(index)\n",
    "    \n",
    "    return testOutput, rf\n",
    "    \n",
    "    "
   ]
  },
  {
   "cell_type": "code",
   "execution_count": 13,
   "metadata": {},
   "outputs": [
    {
     "name": "stdout",
     "output_type": "stream",
     "text": [
      "              precision    recall  f1-score   support\n",
      "\n",
      "         0.0       0.95      0.89      0.92      3108\n",
      "         1.0       0.57      0.76      0.65       591\n",
      "\n",
      "    accuracy                           0.87      3699\n",
      "   macro avg       0.76      0.83      0.79      3699\n",
      "weighted avg       0.89      0.87      0.88      3699\n",
      "\n",
      "(array([0]),)\n"
     ]
    }
   ],
   "source": [
    "testOutput, rf = run_rf_for_input()"
   ]
  },
  {
   "cell_type": "code",
   "execution_count": 14,
   "metadata": {},
   "outputs": [
    {
     "name": "stdout",
     "output_type": "stream",
     "text": [
      "[0.]\n"
     ]
    }
   ],
   "source": [
    "##Case 1. LSTM should predict 0 for this customer\n",
    "##Data Point : 8916,3,142.5,0,0.0,48,1052.255952,0.004347826,0.013043478,0.0,0.0,False,0,0,0,0,0,0,0,1,0,0,1,0,0,0,0,0,0,0,0,0,0,0,0,0,0,1,0,0,0,0,0,0,0,0,0,0,1,0,0,0,0,0,0,0,0,0,0,0,0,0,1,0,0,0,0,0,0,0,0,0,1,0,0,0,0,0,0,0,1,0\n",
    "\n",
    "\n",
    "testInput = pd.read_csv(\"TestInput.csv\")\n",
    "\n",
    "testInput.ProductRelated[testInput.ProductRelated != 0] = 1\n",
    "testInput.ProductRelated[testInput.ProductRelated == 0] = 0\n",
    "\n",
    "testInput.Informational[testInput.Informational != 0] = 1\n",
    "testInput.Informational[testInput.Informational == 0] = 0\n",
    "\n",
    "testInput.Administrative[testInput.Administrative != 0] = 1\n",
    "testInput.Administrative[testInput.Administrative == 0] = 0  \n",
    "\n",
    "testInput = testInput.loc[:, [\"Administrative\", \"Administrative_Duration\", \"Informational\", \"Informational_Duration\", \"ProductRelated\", \"ProductRelated_Duration\", \"PageValues\"]]\n",
    "    \n",
    "testInput = np.array(testInput)\n",
    "testInput = testInput.reshape(1,7,1)\n",
    "\n",
    "testOutput = lstm_model.predict(testInput)\n",
    "testOutput[testOutput<0.5]=0\n",
    "testOutput[testOutput>0.5]=1\n",
    "\n",
    "#will be easier for front end if all the outputs are 1d numpy arrays\n",
    "testOutput = testOutput.flatten()\n",
    "\n",
    "print(testOutput)\n"
   ]
  },
  {
   "cell_type": "code",
   "execution_count": 15,
   "metadata": {},
   "outputs": [
    {
     "name": "stdout",
     "output_type": "stream",
     "text": [
      "[1.]\n"
     ]
    }
   ],
   "source": [
    "##Case 2. RF should return 0 for this customer\n",
    "##Data Point : 8916,3,142.5,0,0.0,48,1052.255952,0.004347826,0.013043478,0.0,0.0,False,0,0,0,0,0,0,0,1,0,0,1,0,0,0,0,0,0,0,0,0,0,0,0,0,0,1,0,0,0,0,0,0,0,0,0,0,1,0,0,0,0,0,0,0,0,0,0,0,0,0,1,0,0,0,0,0,0,0,0,0,1,0,0,0,0,0,0,0,1,0\n",
    "\n",
    "testInput = pd.read_csv(\"TestInput.csv\")\n",
    "\n",
    "testInput = testInput.loc[:, [\"Month_Nov\", \"TrafficType_2\", \"TrafficType_3\", \"Month_May\", \"SpecialDay\", \"TrafficType_13\", \"OS_3\", \"TrafficType_1\", \"Month_Mar\", \"TrafficType_8\", \"BounceRates\", \"ExitRates\", \"Month_Feb\", \"ProductRelated_Duration\", \"PageValues\"]]\n",
    "\n",
    "testOutput = rf.predict(testInput)\n",
    "\n",
    "print(testOutput)\n",
    "    "
   ]
  },
  {
   "cell_type": "code",
   "execution_count": 16,
   "metadata": {},
   "outputs": [
    {
     "name": "stdout",
     "output_type": "stream",
     "text": [
      "[1.]\n"
     ]
    }
   ],
   "source": [
    "##Case 3. RF should return 1 for this customer\n",
    "#Data Point : 6290,1,29.2,0,0.0,0,0.0,0.0,0.066666667,0.0,0.0,True,0,0,0,0,0,0,0,1,0,0,1,0,0,0,0,0,0,0,1,0,0,0,0,0,0,0,0,0,0,0,0,0,0,0,1,0,0,0,0,0,0,1,0,0,0,0,0,0,0,0,0,0,0,0,0,0,0,0,0,0,1,0,0,0,0,0,0,0,0,1\n",
    "\n",
    "\n",
    "testInput = pd.read_csv(\"TestInput.csv\")\n",
    "\n",
    "testInput = testInput.loc[:, [\"Month_Nov\", \"TrafficType_2\", \"TrafficType_3\", \"Month_May\", \"SpecialDay\", \"TrafficType_13\", \"OS_3\", \"TrafficType_1\", \"Month_Mar\", \"TrafficType_8\", \"BounceRates\", \"ExitRates\", \"Month_Feb\", \"ProductRelated_Duration\", \"PageValues\"]]\n",
    "\n",
    "testOutput = rf.predict(testInput)\n",
    "\n",
    "print(testOutput)\n",
    "\n",
    "\n",
    "\n",
    "    "
   ]
  },
  {
   "cell_type": "code",
   "execution_count": null,
   "metadata": {},
   "outputs": [],
   "source": []
  }
 ],
 "metadata": {
  "kernelspec": {
   "display_name": "Python 3",
   "language": "python",
   "name": "python3"
  },
  "language_info": {
   "codemirror_mode": {
    "name": "ipython",
    "version": 3
   },
   "file_extension": ".py",
   "mimetype": "text/x-python",
   "name": "python",
   "nbconvert_exporter": "python",
   "pygments_lexer": "ipython3",
   "version": "3.7.4"
  }
 },
 "nbformat": 4,
 "nbformat_minor": 4
}
